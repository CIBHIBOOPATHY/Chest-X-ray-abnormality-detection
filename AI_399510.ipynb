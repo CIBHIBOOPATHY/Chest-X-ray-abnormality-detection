{
 "cells": [
  {
   "cell_type": "code",
   "execution_count": null,
   "id": "7d8f8305",
   "metadata": {},
   "outputs": [],
   "source": [
    "import os\n",
    "import numpy as np\n",
    "import pandas as pd\n",
    "import shutil\n",
    "import csv\n",
    "import matplotlib.pyplot as plt "
   ]
  },
  {
   "cell_type": "code",
   "execution_count": null,
   "id": "1bb48153",
   "metadata": {},
   "outputs": [],
   "source": [
    "def dicom_dimensions(input_folder):\n",
    "    \"\"\"\n",
    "    Gets the dicom image dimensions\n",
    "    \n",
    "    Args:\n",
    "        input_folder(str): A string containing the dicom folder location\n",
    "    \n",
    "    Returns:\n",
    "        pandas Dataframe: Dataframe containing DICOM image dimensions\n",
    "    \"\"\"\n",
    "    \n",
    "    \n",
    "    # Create a DataFrame to store the dimensions\n",
    "    df = pd.DataFrame(columns=['image_id', 'dicom_width', 'dicom_height'])\n",
    "\n",
    "    # Iterating over all DICOM files in the folder\n",
    "    for imagename in os.listdir(input_folder):\n",
    "        if imagename.endswith('.dcm'):\n",
    "            image = os.path.join(input_folder, imagename)\n",
    "            dicom_image = pydicom.dcmread(image)\n",
    "            width = dicom_image.Rows\n",
    "            height = dicom_image.Columns\n",
    "\n",
    "            df = df.append({'image_id': imagename[:-4], 'dicom_width': width, 'dicom_height': height}, ignore_index=True)\n",
    "\n",
    "    return df"
   ]
  },
  {
   "cell_type": "code",
   "execution_count": null,
   "id": "50685f3c",
   "metadata": {},
   "outputs": [],
   "source": [
    "def dicom_to_png_conversion(source_folder, target_folder):\n",
    "    \"\"\"\n",
    "    Converts DICOM files in the source folder to .png image and saves them in a new folder\n",
    "    Also creates a dataframe with PNG image dimensions\n",
    "\n",
    "    Args:\n",
    "        source_folder (str): DICOM images folder location\n",
    "        target_folder (str): PNG images storage location.\n",
    "    Returns:\n",
    "        pandas Dataframe: Dataframe with png image dimensions\n",
    "    \"\"\"\n",
    "    \n",
    "    df = pd.DataFrame(columns=['image_id', 'png_width', 'png_height'])\n",
    "\n",
    "    # Iterating over all DICOM files in the folder\n",
    "    for imagename in os.listdir(source_folder):\n",
    "        if imagename.endswith('.dcm'):\n",
    "            dicom_image = pydicom.dcmread(os.path.join(source_folder, imagename))\n",
    "\n",
    "            #Aspect ratio calculation\n",
    "            aspect_ratio = float((dicom_image.Rows)/(dicom_image.Columns))\n",
    "            \n",
    "\n",
    "            if aspect_ratio >= 1:\n",
    "                width = 256\n",
    "                height = int(256/aspect_ratio)\n",
    "            else:\n",
    "                width = int(256*aspect_ratio)\n",
    "                height = 256\n",
    "                \n",
    "            png_object = Image.fromarray(dicom_image.pixel_array)\n",
    "            \n",
    "            # Image resize\n",
    "            png_object = pnj_object.resize(width,height)\n",
    "                \n",
    "            # Store the image as a PNG file\n",
    "            png_imagename = os.path.splitext(imagename)[0] + '.png'\n",
    "            png_object.save(os.path.join(target_folder, png_imagename))\n",
    "        \n",
    "            df = df.append({'image_id': imagename[:-4], 'png_width': width, 'png_height': height}, ignore_index=True)\n",
    "\n",
    "    return df"
   ]
  },
  {
   "cell_type": "code",
   "execution_count": null,
   "id": "15953ce1",
   "metadata": {},
   "outputs": [],
   "source": [
    "def train_test_val_split(df,source_folder_path,target_folder_path_images,target_folder_path_labels):\n",
    "    \"\"\"\n",
    "    Splits the dataframe into train, test and validation dataframes and copies the images and creates\n",
    "    labels for YOLO model training\n",
    "    \n",
    "    Args:\n",
    "        df (dataframe): Unique image dataframe\n",
    "        source_folder_path (list(str)): PNG image storage location after splitting dataframe\n",
    "        target_folder_path (list(str)): labels storage location\n",
    "    \"\"\"\n",
    "    train_percentile = 0.8\n",
    "    val_percentile = 0.1\n",
    "    test_percentile = 0.1\n",
    "    \n",
    "    rows,cols=df.shape\n",
    "    \n",
    "    train_rows=int(train_percentile*rows)\n",
    "    val_rows=int(val_percentile*rows)\n",
    "    test_rows=rows-train_rows-val_rows\n",
    "    \n",
    "    #Shuffling the dataframe before splitting it\n",
    "    df = df.sample(frac=1, random_state=50)\n",
    "    \n",
    "    train_df = df.iloc[:train_rows]\n",
    "    val_df = df.iloc[train_rows:train_rows+val_rows]\n",
    "    test_df = df.iloc[train_rows+val_rows:]\n",
    "    \n",
    "    #Getting unique image id from train, test and validation dataframes as lists\n",
    "    train_df_unique=train_df['image_id'].unique().tolist()\n",
    "    val_df_unique=val_df['image_id'].unique().tolist()\n",
    "    test_df_unique=test_df['image_id'].unique().tolist()\n",
    "    \n",
    "    #Copying the images to a new location\n",
    "    for image in os.listdir(source_folder_path):\n",
    "        if image.endswith('.png') and image[:-4] in train_df_unique:\n",
    "            source_file=os.path.join(source_folder_path, image)\n",
    "            target_file=os.path.join(target_folder_path[1], image)\n",
    "            shutil.copy(source_file, target_file)\n",
    "    \n",
    "    for image in os.listdir(source_folder_path):\n",
    "        if image.endswith('.png') and image[:-4] in val_df_unique:\n",
    "            source_file=os.path.join(source_folder_path, image)\n",
    "            target_file=os.path.join(target_folder_path[1], image)\n",
    "            shutil.copy(source_file, target_file)\n",
    "            \n",
    "    for image in os.listdir(source_folder_path):\n",
    "        if image.endswith('.png') and image[:-4] in test_df_unique:\n",
    "            source_file=os.path.join(source_folder_path, image)\n",
    "            target_file=os.path.join(target_folder_path[2], image)\n",
    "            shutil.copy(source_file, target_file)\n",
    "    \n",
    "    #Creating labels for split dataframe\n",
    "    # Iterate over unique image ids\n",
    "    for image in train_df_unique:\n",
    "        image_df = train_df[train_df['image_id'] == image]\n",
    "        image_rows,image_cols=image_df.shape\n",
    "\n",
    "        # Create a txt file with the same name as the image id and write the data to it\n",
    "        with open(f'{target_folder_path_lables[0]}//{image}.txt', 'w') as file:\n",
    "            for i in range(image_rows):\n",
    "                file.write(f\"{image_df.iloc[i]['class_id']} {image_df.iloc[i]['x_mid']} {image_df.iloc[i]['y_mid']} {image_df.iloc[i]['bbox_width']} {image_df.iloc[i]['bbox_height']}\\n\")\n",
    "    \n",
    "    # Iterate over unique image ids\n",
    "    for image in val_df_unique:\n",
    "        image_df = val_df[val_df['image_id'] == image]\n",
    "        image_rows,image_cols=image_df.shape\n",
    "    \n",
    "        with open(f'{target_folder_path_labels[1]}//{image}.txt', 'w') as file:\n",
    "            for i in range(image_rows):\n",
    "                file.write(f\"{image_df.iloc[i]['class_id']} {image_df.iloc[i]['x_mid']} {image_df.iloc[i]['y_mid']} {image_df.iloc[i]['bbox_width']} {image_df.iloc[i]['bbox_height']}\\n\")\n"
   ]
  },
  {
   "cell_type": "markdown",
   "id": "3bd85573",
   "metadata": {},
   "source": [
    "Create the DICOM image dimensions dataframe"
   ]
  },
  {
   "cell_type": "code",
   "execution_count": null,
   "id": "1ce94a1a",
   "metadata": {},
   "outputs": [],
   "source": [
    "dicom_folder_path = '/Users/cibhi/AI Assessment/Coding/Dicom'\n",
    "dicom = dicom_dimensions(dicom_folder_path)"
   ]
  },
  {
   "cell_type": "markdown",
   "id": "e3f81edf",
   "metadata": {},
   "source": [
    "Create the PNG image dimensions dataframe after DICOM to PNG conversion"
   ]
  },
  {
   "cell_type": "code",
   "execution_count": null,
   "id": "2d89c836",
   "metadata": {},
   "outputs": [],
   "source": [
    "png_folder_path = '/Users/cibhi/AI Assessment/Coding/PNG'\n",
    "png = dicom_to_png_conversion(dicom_folder_path, png_folder_path)"
   ]
  },
  {
   "cell_type": "markdown",
   "id": "0e288612",
   "metadata": {},
   "source": [
    "Read the train dataset"
   ]
  },
  {
   "cell_type": "code",
   "execution_count": null,
   "id": "f459fc6e",
   "metadata": {},
   "outputs": [],
   "source": [
    "df=pd.read_csv('train.csv')"
   ]
  },
  {
   "cell_type": "code",
   "execution_count": null,
   "id": "a951d4cd",
   "metadata": {},
   "outputs": [],
   "source": [
    "# PLotting the class identifications per class\n",
    "\n",
    "unique = df['class_id'].value_counts().sort_index()\n",
    "\n",
    "fig, ax = plt.subplots(figsize=(8, 6))\n",
    "\n",
    "ax = unique.plot(kind='bar')\n",
    "ax.set_xlabel('Class ID')\n",
    "ax.set_ylabel('Number of identifications')\n",
    "\n",
    "\n",
    "\n",
    "unique.plot(kind='bar')\n",
    "unique = unique.sort_index()\n",
    "\n",
    "for i, j in enumerate(unique.values):\n",
    "    ax.text(i, j + 1, str(j), ha='center')\n",
    "\n",
    "plt.show()"
   ]
  },
  {
   "cell_type": "markdown",
   "id": "4ef0095a",
   "metadata": {},
   "source": [
    "Merge DICOM dimensions and PNG dimensions to the train dataframe"
   ]
  },
  {
   "cell_type": "code",
   "execution_count": null,
   "id": "560fd569",
   "metadata": {},
   "outputs": [],
   "source": [
    "merged=pd.merge(df,dicom,on='image_id')\n",
    "merged=pd.merge(merged,png,on='image_id')"
   ]
  },
  {
   "cell_type": "markdown",
   "id": "138366f7",
   "metadata": {},
   "source": [
    "Calculate scaling factor to resize bounding box parameters and calculate the bounding box for YOLO"
   ]
  },
  {
   "cell_type": "code",
   "execution_count": null,
   "id": "4f14d978",
   "metadata": {},
   "outputs": [],
   "source": [
    "merged['Scale_y'] = merged['png_height'] / merged['dicom_height']\n",
    "merged['Scale_x'] = merged['png_width'] / merged['dicom_width']"
   ]
  },
  {
   "cell_type": "code",
   "execution_count": null,
   "id": "077ccfc4",
   "metadata": {},
   "outputs": [],
   "source": [
    "merged['new_x_min'] = merged.apply(lambda row: ((row.x_min)*(row.Scale_x))/(row.png_width) if row.class_id != 14 else 0, axis=1)\n",
    "merged['new_y_min'] = merged.apply(lambda row: ((row.y_min)*(row.Scale_y))/(row.png_height) if row.class_id != 14 else 0, axis=1)\n",
    "merged['new_x_max'] = merged.apply(lambda row: ((row.x_max)*(row.Scale_x))/(row.png_width) if row.class_id != 14 else 1, axis=1)\n",
    "merged['new_y_max'] = merged.apply(lambda row: ((row.y_max)*(row.Scale_y))/(row.png_height) if row.class_id != 14 else 1, axis=1)"
   ]
  },
  {
   "cell_type": "code",
   "execution_count": null,
   "id": "b78f4298",
   "metadata": {},
   "outputs": [],
   "source": [
    "#Calculate bounding box parameters for YOLO model\n",
    "merged['x_mid'] = merged.apply(lambda row: (row.new_x_min+row.new_x_max)/2, axis=1)\n",
    "merged['y_mid'] = merged.apply(lambda row: (row.new_y_min+row.new_y_max)/2, axis=1)\n",
    "merged['bbox_width'] = merged.apply(lambda row: (row.new_x_max-row.new_x_min), axis=1)\n",
    "merged['bbox_height'] = merged.apply(lambda row: (row.new_y_max-row.new_y_min), axis=1)"
   ]
  },
  {
   "cell_type": "markdown",
   "id": "11671709",
   "metadata": {},
   "source": [
    "Selecting unique images for evely distributed class identifications"
   ]
  },
  {
   "cell_type": "code",
   "execution_count": null,
   "id": "673eff11",
   "metadata": {},
   "outputs": [],
   "source": [
    "df_unique = (merged.groupby('class_id')\n",
    "                 .apply(lambda x: x.drop_duplicates().head(600))\n",
    "                 .reset_index(drop=True)\n",
    "                 .drop_duplicates()\n",
    "                 .head(9000))"
   ]
  },
  {
   "cell_type": "code",
   "execution_count": null,
   "id": "6693e445",
   "metadata": {},
   "outputs": [],
   "source": [
    "target_folder_path_images=['/Users/cibhi/AI Assessment/Coding/Yolov8_600/Train/images','/Users/cibhi/AI Assessment/Coding/Yolov8_600/Validation/images','/Users/cibhi/AI Assessment/Coding/Yolov8_600/Test/images']"
   ]
  },
  {
   "cell_type": "code",
   "execution_count": null,
   "id": "fec1e6e7",
   "metadata": {},
   "outputs": [],
   "source": [
    "target_folder_path_labels=['/Users/cibhi/AI Assessment/Coding/Yolov8_600/Train/labels','/Users/cibhi/AI Assessment/Coding/Yolov8_600/Validation/labels']"
   ]
  },
  {
   "cell_type": "markdown",
   "id": "fc12bb83",
   "metadata": {},
   "source": [
    "Splitting the dataframe into train,test and validation datasets for YOLO model training"
   ]
  },
  {
   "cell_type": "code",
   "execution_count": null,
   "id": "54edccc2",
   "metadata": {},
   "outputs": [],
   "source": [
    "train_test_val_split(df_unique,png_folder_path,target_folder_path_images,target_folder_path_labels)"
   ]
  }
 ],
 "metadata": {
  "kernelspec": {
   "display_name": "Python 3 (ipykernel)",
   "language": "python",
   "name": "python3"
  },
  "language_info": {
   "codemirror_mode": {
    "name": "ipython",
    "version": 3
   },
   "file_extension": ".py",
   "mimetype": "text/x-python",
   "name": "python",
   "nbconvert_exporter": "python",
   "pygments_lexer": "ipython3",
   "version": "3.9.12"
  }
 },
 "nbformat": 4,
 "nbformat_minor": 5
}
